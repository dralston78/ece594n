{
 "cells": [
  {
   "cell_type": "markdown",
   "metadata": {
    "slideshow": {
     "slide_type": "slide"
    }
   },
   "source": [
    "##### Welcome to ECE 594n/194n\n",
    "\n",
    "### Geometric Machine Learning for Biomedical Imaging and Shape Analysis\n",
    "\n",
    "\n",
    "$\\color{#003660}{\\text{Nina Miolane - Assistant Professor}}$ \n",
    "\n",
    "BioShape Lab @ UCSB ECE"
   ]
  },
  {
   "cell_type": "markdown",
   "metadata": {},
   "source": [
    "<center><img src=\"figs/00_bioshape.jpg\" width=650px alt=\"default\"/></center>\n"
   ]
  },
  {
   "cell_type": "markdown",
   "metadata": {
    "slideshow": {
     "slide_type": "slide"
    }
   },
   "source": [
    "# Instructor: Nina Miolane (me)"
   ]
  },
  {
   "cell_type": "markdown",
   "metadata": {
    "cell_style": "split"
   },
   "source": [
    "<img src=\"figs/00_nina.jpg\" width=200px alt=\"default\"/>"
   ]
  },
  {
   "cell_type": "markdown",
   "metadata": {},
   "source": [
    "$\\color{#047C91}{\\text{Research}}$: Exploring the geometries of life: \n",
    "- how proteins, cells, organs adopt specific shapes to function, \n",
    "- and how pathologies arise from abnormal shapes.\n",
    "\n",
    "$\\color{#047C91}{\\text{Office Hours}}$: Mondays 2 - 3 PM (starting next week)\n",
    "\n",
    "https://ucsb.zoom.us/my/nmiolane "
   ]
  },
  {
   "cell_type": "markdown",
   "metadata": {
    "slideshow": {
     "slide_type": "slide"
    }
   },
   "source": [
    "# Classes"
   ]
  },
  {
   "cell_type": "markdown",
   "metadata": {
    "cell_style": "center",
    "slideshow": {
     "slide_type": "-"
    }
   },
   "source": [
    "\n",
    "- Mondays, Wednesdays 12:00 - 1:50 PM in PHELP 1437\n",
    "- Slides: [ECE 594n's GitHub](https://github.com/bioshape-lab/ece594n)"
   ]
  },
  {
   "cell_type": "markdown",
   "metadata": {},
   "source": [
    "Notes:\n",
    "- Do not enroll in other courses whose schedule is conflicting with this class. \n",
    "- If you cannot attend/watch all lectures, please drop this class.\n"
   ]
  },
  {
   "cell_type": "markdown",
   "metadata": {
    "slideshow": {
     "slide_type": "slide"
    }
   },
   "source": [
    "# Slack\n",
    "\n",
    "Join the class Slack workspace via this link using your ucsb email address\n",
    "\n",
    "https://join.slack.com/t/ucsbece594nw23/shared_invite/zt-1n1h8qz0g-ai0jq~k95qIjgLn8QVcvXQ\n",
    "\n",
    "- Slack is our prefered communication channel.\n",
    "- Avoid emails if possible, write on Slack."
   ]
  },
  {
   "cell_type": "markdown",
   "metadata": {
    "slideshow": {
     "slide_type": "slide"
    }
   },
   "source": [
    "# Python and Jupyter Notebooks\n",
    "\n",
    "We will use:\n",
    "- Python version 3.8 or higher as our programming language,\n",
    "- Jupyter notebooks to run Python interactively in a web browser.\n",
    "\n",
    "You should download Anaconda which will install everything you need to run Python 3.8+ and Jupyter notebooks:\n",
    "- Anaconda: https://www.anaconda.com/download\n",
    "\n",
    "Then: `conda env create -f environmnent.yml`."
   ]
  },
  {
   "cell_type": "markdown",
   "metadata": {
    "slideshow": {
     "slide_type": "slide"
    }
   },
   "source": [
    "# Outline\n",
    "\n",
    "- **Unit 1 (Geometry - Math!)**: Differential Geometry for Engineers\n",
    "- **Unit 2 (Shapes)**: Computational Representations of Biomedical Shapes\n",
    "- **Unit 3 (Machine Learning)**: Geometric Machine Learning for Shape Analysis\n",
    "\n",
    "<center><img src=\"figs/00_bioshape.jpg\" width=350px alt=\"default\"/></center>\n",
    "\n",
    "Examples and applications will be taken from cutting-edge research in the **biomedical field**."
   ]
  },
  {
   "cell_type": "markdown",
   "metadata": {
    "slideshow": {
     "slide_type": "slide"
    }
   },
   "source": [
    "# Resources\n",
    "\n",
    "Textbook: [Guigui, Miolane, Pennec (2022). Introduction to Riemannian Geometry and Geometric Statistics.](https://hal.inria.fr/hal-03766900/document)\n",
    "\n",
    "- **Unit 1**: Textbook: Ch. 1 - 4.\n",
    "- **Unit 2**: See references in corresponding lecture notes.\n",
    "- **Unit 3**: Textbook: Ch. 6.\n",
    " \n",
    "<center><img src=\"figs/00_book.jpeg\" width=550px alt=\"default\"/></center>"
   ]
  },
  {
   "cell_type": "markdown",
   "metadata": {
    "slideshow": {
     "slide_type": "slide"
    }
   },
   "source": [
    "# Computational Resources\n",
    "\n",
    "- Miolane et al (2020). Geomstats: a Python package for Geometry in Machine Learning.\n",
    "  - https://github.com/geomstats/geomstats\n",
    "- Myers (2022). Tutorials of Riemannian Geometry and Geometric Statistics.\n",
    "  - https://github.com/geomstats/geomstats/tree/master/notebooks\n",
    "  \n",
    " <center><img src=\"figs/00_github.png\" width=350px alt=\"default\"/></center>"
   ]
  },
  {
   "cell_type": "markdown",
   "metadata": {
    "slideshow": {
     "slide_type": "slide"
    }
   },
   "source": [
    "# Grading\n",
    "\n",
    "- **HW Python** $\\color{#EF5645}{\\text{(20%)}}$: Learn Python with Datacamp\n",
    "- **Lab-HW Geometry** $\\color{#EF5645}{\\text{(30%)}}$: \n",
    "  - Visualize geometry with Geomstats\n",
    "- **Lab-HW Shapes** $\\color{#EF5645}{\\text{(20%)}}$: \n",
    "  - Visualize a shape dataset + Ask a biomedical question\n",
    "- **Lab-HW Final project** $\\color{#EF5645}{\\text{(30%)}}$:\n",
    "  - Leverage geometric Learning for your biomedical shape analysis\n",
    "\n",
    "<center><img src=\"figs/00_aplus.png\" width=300px alt=\"default\"/></center>"
   ]
  },
  {
   "cell_type": "markdown",
   "metadata": {
    "slideshow": {
     "slide_type": "slide"
    }
   },
   "source": [
    "# HW Python\n",
    "\n",
    "Join the Data camp group with your @ucsb.edu address [via this link](https://www.datacamp.com/groups/shared_links/6554589e75686c97af41afeb7e7f235941fb1a92a77502b89ae80dead4b5db24).\n",
    "\n",
    "You will find this assignment:\n",
    "- Intermediate Python: <4 hours. \n",
    "  - Deadline: Monday 01/16/2023, 11:59 PM PST."
   ]
  },
  {
   "cell_type": "markdown",
   "metadata": {
    "slideshow": {
     "slide_type": "slide"
    }
   },
   "source": [
    "# Lab-HW Geometry\n",
    "\n",
    "$\\color{#EF5645}{\\text{Goal}}$: Get intuition on Differential Geometry by visualizing manifolds.\n",
    "- Lab: Wednesday 01/25/2023\n",
    "- Deadline: Monday 01/30/2023\n",
    "- Team of 1-4 students.\n",
    "\n",
    "Steps:\n",
    "- Read guidelines in the [`hw-geomviz` folder](https://github.com/bioshape-lab/ece594n/tree/main/hw-geomviz), we will also explain them in class later.\n",
    "- Register your team on the README.md of the [`hw-geomviz` folder](https://github.com/bioshape-lab/ece594n/tree/main/hw-geomviz).\n",
    "- Submit your visualization as a PR to the Geomstats repository by Monday 01/30/2023"
   ]
  },
  {
   "cell_type": "markdown",
   "metadata": {
    "slideshow": {
     "slide_type": "slide"
    }
   },
   "source": [
    "# Lab-HW Shapes\n",
    "\n",
    "$\\color{#EF5645}{\\text{Goal}}$: Decide on the topic of your final project, find the dataset and visualize it.\n",
    "\n",
    "- Lab: Monday 02/13/2023\n",
    "- Deadline: Monday 02/20/2023\n",
    "- Teams of 1-4 students.\n",
    "\n",
    "Steps:\n",
    "- Read guidelines in the README.md of the [`hw-shapes` folder](https://github.com/bioshape-lab/ece594n/tree/main/hw-shapes).\n",
    "- Submit your project as a Jupyter notebook in the `hw-shapes` folder."
   ]
  },
  {
   "cell_type": "markdown",
   "metadata": {
    "slideshow": {
     "slide_type": "slide"
    }
   },
   "source": [
    "# Lab-HW Final Project\n",
    "\n",
    "$\\color{#EF5645}{\\text{Goal}}$: Put your skills in practice to tackle a project of your choice: perform geometric machine learning analysis on a biomedical dataset.\n",
    "\n",
    "- Labs: Monday 03/06/2023 and Wednesday 03/08/2023\n",
    "- Presentations in class: Monday 03/13/2023 and Wednesday 03/15/2023\n",
    "- Teams of 1-4 students.\n",
    "\n",
    "Steps:\n",
    "- Read guidelines in the README.md of the [`hw-project` folder](https://github.com/bioshape-lab/ece594n/tree/main/hw-project).\n",
    "- Register your team on the README.md of the `hw-project` folder.\n",
    "- Submit your project as a Jupyter notebook in the `hw-project` folder.\n",
    "- Present your work in class: 5 min per student, i.e. 5 to 20 min per team."
   ]
  },
  {
   "cell_type": "markdown",
   "metadata": {
    "slideshow": {
     "slide_type": "slide"
    }
   },
   "source": [
    "# Questions?"
   ]
  }
 ],
 "metadata": {
  "celltoolbar": "Slideshow",
  "kernelspec": {
   "display_name": "Python 3 (ipykernel)",
   "language": "python",
   "name": "python3"
  },
  "language_info": {
   "codemirror_mode": {
    "name": "ipython",
    "version": 3
   },
   "file_extension": ".py",
   "mimetype": "text/x-python",
   "name": "python",
   "nbconvert_exporter": "python",
   "pygments_lexer": "ipython3",
   "version": "3.11.0"
  }
 },
 "nbformat": 4,
 "nbformat_minor": 2
}
