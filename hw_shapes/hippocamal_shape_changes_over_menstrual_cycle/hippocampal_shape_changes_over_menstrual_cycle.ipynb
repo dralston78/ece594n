{
 "cells": [
  {
   "cell_type": "markdown",
   "id": "904d0af8-9773-4f53-a0aa-c1bca4c94cbb",
   "metadata": {},
   "source": [
    "# Characterizing Brain Shape Changes During the Female Menstrual Cycle"
   ]
  },
  {
   "cell_type": "markdown",
   "id": "6959022b-48d2-4461-b2da-880cbb57d5f0",
   "metadata": {
    "tags": []
   },
   "source": [
    "$\\textbf{Author: Adele Myers}$"
   ]
  },
  {
   "cell_type": "markdown",
   "id": "8e7b3d0e-ba54-47e9-a1fe-003ef941a20c",
   "metadata": {},
   "source": [
    "The “28 and me” dataset tracks the brain shape and hormone levels in blood of one woman throughout the 28 days of her menstrual cycle [2]. It is well known that a woman’s hormones drastically fluctuate during the course of her menstrual cycle, and the purpose of the “28 and me” study was to track how brain shape changes during the course of a woman’s menstrual cycle as her hormones are changing. Caitlin Taylor, has worked with the “28 and me” dataset to show that volume changes in the hippocampus are linked with hormone changes throughout a woman’s menstrual cycle [1]. \n",
    "\n",
    "I will build upon Caitlin’s work by using shape analysis to correlate hippocampus size and shape to hormone fluctuations. This study is valuable because it would either 1) yield a different result than Caitlin’s volume results, in which case we would then do further analysis to decide which method is giving “better” results and why, or 2) shape analysis yields the same result as Caitlin’s volume results. The latter case would be preferable, as Caitlin’s previous volume results were strong, and if shape analysis yields the same result, that would prove that shape analysis is also a strong method and that we should apply it to other, less explored questions in the brain.\n",
    "\n",
    "Specifically, I will\n",
    "- extract the shape of the hippocampus at each point in the menstrual cycle\n",
    "- perform tangent PCA on the data to find the characteristic shape changes\n",
    "- compare the distribution of shape change (calculated by calculating the distnace from the mean at each day) to the distribution of hormone fluctuation"
   ]
  },
  {
   "cell_type": "markdown",
   "id": "71f302cd-31a0-4a40-887e-6db75dd0b390",
   "metadata": {
    "tags": []
   },
   "source": [
    "References\n",
    "\n",
    "[1] Pritschet L, Santander T, Layer E, Taylor C, Yu S, Miller M, Grafton ST, & Jacobs EG. 2020. Functional reorganization of brain networks aross the human menstrual cycle. NeuroImage. *Cover Article\n",
    "\n",
    "[2] Taylor C, Pritschet L, Olsen R, Layher E, Santander T, Grafton ST, & Jacobs EG. 2020. Progesterone shapes medial temporal lobe volume across the human mestrual cycle. NeuroImage *Highlighted as Editors' Choice in Science Translational Medicine"
   ]
  },
  {
   "cell_type": "markdown",
   "id": "37ce3608-3fac-4cb7-875d-c820402efa96",
   "metadata": {},
   "source": [
    "# Visualization: done in blender"
   ]
  },
  {
   "cell_type": "markdown",
   "id": "12afc2a0-f1b6-460b-b3e9-383102f45497",
   "metadata": {},
   "source": [
    "![visualize.jpg](visualize.jpg)"
   ]
  },
  {
   "cell_type": "code",
   "execution_count": null,
   "id": "e88f9028-76a8-491a-a534-b3a2f7fab82e",
   "metadata": {},
   "outputs": [],
   "source": []
  }
 ],
 "metadata": {
  "kernelspec": {
   "display_name": "Python 3 (ipykernel)",
   "language": "python",
   "name": "python3"
  },
  "language_info": {
   "codemirror_mode": {
    "name": "ipython",
    "version": 3
   },
   "file_extension": ".py",
   "mimetype": "text/x-python",
   "name": "python",
   "nbconvert_exporter": "python",
   "pygments_lexer": "ipython3",
   "version": "3.8.16"
  }
 },
 "nbformat": 4,
 "nbformat_minor": 5
}
