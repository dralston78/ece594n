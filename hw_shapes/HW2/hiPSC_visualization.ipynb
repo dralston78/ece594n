{
  "cells": [
    {
      "cell_type": "markdown",
      "source": [
        "ECE194N/594N HW2: Shapes\n",
        "\n",
        "Mikolaj Godzik and Jose Nunez\n",
        "\n",
        "In this project, we will be visualzing a dataset for our final project, in which we will be classifying cell cycle stages, using cell nuclei and membrane shape as predictors. The dataset examined here comes from the following paper: https://www.nature.com/articles/s41586-022-05563-7, specifically, the supplementary dataset that coantains labeled data of 5,664 cells, which may be accessed here: https://open.quiltdata.com/b/allencell/packages/aics/mitotic_annotation. \n",
        "The dataset consists of raw microscopy images of cells with 3 channels: nuclear dye, membrane dye, and a single, endogenous protein tagged with a fluorescent protein, as well as segmented, binary images of the same cells, consisting of 2 channels: nuclear dye binary segmentation and membrane dye binary segmentation. We will be examining the latter set of images, as all pre-processing and segmentation have alreadyh been implemented for these images."
      ],
      "metadata": {
        "id": "QMdeNnOb82vR"
      }
    },
    {
      "cell_type": "markdown",
      "source": [
        "# 1. Installing libraries, downloading data, exploring metadata\n"
      ],
      "metadata": {
        "id": "-A2z60PATf9w"
      }
    },
    {
      "cell_type": "code",
      "source": [
        "pip install aicsimageio"
      ],
      "metadata": {
        "id": "-aqABEvTEdr_"
      },
      "execution_count": null,
      "outputs": []
    },
    {
      "cell_type": "code",
      "source": [
        "pip install geomstats"
      ],
      "metadata": {
        "id": "sRWTZl_ufEbD"
      },
      "execution_count": null,
      "outputs": []
    },
    {
      "cell_type": "code",
      "source": [
        "pip install quilt3"
      ],
      "metadata": {
        "id": "aKdUXOKhHrmo"
      },
      "execution_count": null,
      "outputs": []
    },
    {
      "cell_type": "code",
      "execution_count": null,
      "metadata": {
        "id": "FdS-X3aGm97s"
      },
      "outputs": [],
      "source": [
        "import pandas as pd\n",
        "import numpy as np\n",
        "import quilt3 as q3\n",
        "import matplotlib.pyplot as plt\n",
        "from aicsimageio import AICSImage\n",
        "from aicsimageio.writers import OmeTiffWriter\n",
        "import cv2"
      ]
    },
    {
      "cell_type": "code",
      "source": [
        "q3.Package.install(\"aics/mitotic_annotation\", path=\"metadata.csv\", registry=\"s3://allencell\", dest=\".\")"
      ],
      "metadata": {
        "id": "e54BJgqrEMzZ"
      },
      "execution_count": null,
      "outputs": []
    },
    {
      "cell_type": "code",
      "source": [
        "q3.Package.install(\"aics/mitotic_annotation\", path=\"crop_seg\", registry=\"s3://allencell\", dest=\".\")"
      ],
      "metadata": {
        "id": "8lw6IHa9FcKk"
      },
      "execution_count": null,
      "outputs": []
    },
    {
      "cell_type": "code",
      "source": [
        "meta = pd.read_csv('metadata.csv')\n",
        "meta.head()"
      ],
      "metadata": {
        "id": "4JGdSLSzII-8"
      },
      "execution_count": null,
      "outputs": []
    },
    {
      "cell_type": "markdown",
      "source": [
        "As seen above, the metadata column contains path files for the raw and segmented images, as well as labels for each cell. All unique labels are shown below"
      ],
      "metadata": {
        "id": "X5y9ujaidh1l"
      }
    },
    {
      "cell_type": "code",
      "source": [
        "print(meta['label'].unique())"
      ],
      "metadata": {
        "id": "7mRPh_gkdubH"
      },
      "execution_count": null,
      "outputs": []
    },
    {
      "cell_type": "markdown",
      "source": [
        "These labels should be sufficient for training our learning model. The label 'blob' refers to intracellular dye aggregates, rather than true cells. 'Wrong' refers to cells that were incorrevtly segmented. 'Dead' refers to cells that had died or were in the process of dying during imaging. These outlier cells will not be used for classification of cell cycle stage. The rest of the labels refer to a specific stage of the cell cycle that the cell was in during imaging. Finally, the column 'CellId' refers to a unique label for each cell imaged. "
      ],
      "metadata": {
        "id": "jIIe-Hxid6Ov"
      }
    },
    {
      "cell_type": "code",
      "source": [
        "print(meta['label'].value_counts())"
      ],
      "metadata": {
        "id": "0udiDjCdfgsV"
      },
      "execution_count": null,
      "outputs": []
    },
    {
      "cell_type": "markdown",
      "source": [
        "The vast majority of cells do not belong to any outlier groups (2.7% total). Overall, the dataset is biased towards M0, or interphase cells (~44% of total dataset). "
      ],
      "metadata": {
        "id": "nHShGhOefnyy"
      }
    },
    {
      "cell_type": "markdown",
      "source": [
        "# 2. Visualizing Images"
      ],
      "metadata": {
        "id": "4bP3VwGuTVpc"
      }
    },
    {
      "cell_type": "code",
      "source": [
        "paths_dict = {}\n",
        "for label in list(meta['label'].unique()):\n",
        "  path = str(meta[meta['label']==str(label)].iloc[3]['crop_seg'].strip('crop_seg/'))\n",
        "  reader_label = AICSImage(path)\n",
        "  img_label = reader_label.data.astype(np.float32)\n",
        "  im_data_label = reader_label.get_image_data(\"CYX\",Z=45,S=0, T=0,dimension_order='CYX')\n",
        "  paths_dict[label] = [path,im_data_label]"
      ],
      "metadata": {
        "id": "KOBkERiekwCG"
      },
      "execution_count": null,
      "outputs": []
    },
    {
      "cell_type": "code",
      "source": [
        "for label in paths_dict:\n",
        "  reader_label = AICSImage(paths_dict[label])\n",
        "  img_label = reader_label.data.astype(np.float32)\n",
        "  im_data_label = reader_label.get_image_data(\"CYX\",Z=45,S=0, T=0,dimension_order='CYX')\n",
        "  paths_dict[label] = [paths_dict[label],im_data_label]"
      ],
      "metadata": {
        "id": "bpcgI1OYOafb"
      },
      "execution_count": null,
      "outputs": []
    },
    {
      "cell_type": "code",
      "source": [
        "fig, ax = plt.subplots(figsize = (25,25),nrows=len(paths_dict),ncols=2)\n",
        "i = 0\n",
        "for label in paths_dict:\n",
        "  ax[i,0].imshow(paths_dict[label][1][0,:,:], cmap = 'gray')\n",
        "  ax[i,0].set_title('Nucleus, Label = {}'.format(label))\n",
        "  ax[i,1].imshow(paths_dict[label][1][1,:,:], cmap = 'gray')\n",
        "  ax[i,1].set_title('Membrane, Label = {}'.format(label))\n",
        "  i = i + 1\n",
        "plt.tight_layout()\n",
        "plt.show()"
      ],
      "metadata": {
        "id": "uLpU-QEAF0lx"
      },
      "execution_count": null,
      "outputs": []
    },
    {
      "cell_type": "markdown",
      "source": [
        "Shown above is a sample of cell images, one from each unique label, with the leftmost row representing the nuclear binary channel, and the rightmost row representing the membrane binary channel. We see a potential problem with our dataset: some cells, such as the one shown with label M6M7_half, have round, continuous/smooth nuclei, while others, such as the one shown with label M3, have discrete punctae-like segmented nuclei. "
      ],
      "metadata": {
        "id": "mpi-IlfSGbGU"
      }
    },
    {
      "cell_type": "markdown",
      "source": [
        "# 3. Parametrization"
      ],
      "metadata": {
        "id": "YRMIuLhACuha"
      }
    },
    {
      "cell_type": "code",
      "source": [
        "lis = [2886,2887,2888,2889,2900]#[158,159,160,166,162,\n",
        "       #2886,2887,2888,2889,2900,\n",
        "       #3787,3788,3789,3790,3791,\n",
        "       #4089,4090,4091,4092,4093,\n",
        "       #5391,5392,5393,5394,5395,\n",
        "       #5588,5589,5590,5591,5592]"
      ],
      "metadata": {
        "id": "VMLjkOZET5Nd"
      },
      "execution_count": 165,
      "outputs": []
    },
    {
      "cell_type": "code",
      "source": [
        "counter = 0\n",
        "# number of parametrization points per cell\n",
        "para_size = 50\n",
        "# dim = number of cells, nuclear vs membrane, points on curve, x vs y\n",
        "cells = np.zeros((len(lis),2,para_size,2))\n",
        "\n",
        "for i in lis:\n",
        "  # read in images from local and extract 32nd Z slices\n",
        "  reader = AICSImage(meta['crop_seg'][i].replace('crop_seg/','')) \n",
        "  img = reader.data.astype(np.float32)\n",
        "  im_data = reader.get_image_data(\"CYX\",Z=32,S=0, T=0,dimension_order='CYX')\n",
        "\n",
        "# NUCLEAR\n",
        "  # set cutoff for nuclear size (avoids errors in parametrization)\n",
        "  '''\n",
        "  What is the best value for this cut off?\n",
        "  '''\n",
        "  if im_data[0,:,:].mean() < 7:\n",
        "    cntr = np.zeros((para_size,2))\n",
        "    \n",
        "  else:\n",
        "    # paramatrize the nuclear boundary curve\n",
        "    contours = cv2.findContours(im_data[0,:,:], cv2.RETR_EXTERNAL, cv2.CHAIN_APPROX_NONE)\n",
        "    contours = contours[0] if len(contours) == 2 else contours[1]\n",
        "    if len(contours) == 2 and len(contours[1]) > len(contours[0]):\n",
        "      cntr = contours[1]\n",
        "    else:\n",
        "      cntr = contours[0]\n",
        "    cntr = np.asarray(cntr)\n",
        "    cntr = np.reshape(cntr,(cntr.shape[0],2))\n",
        "    # this code randomly picks points in order to resize the parametrization to a specific length\n",
        "    choice = np.random.choice(range(cntr.shape[0]), size=(para_size,1), replace=False)\n",
        "    ind = np.zeros(cntr.shape[0], dtype=bool)\n",
        "    ind[choice] = True\n",
        "    cntr = cntr[ind]\n",
        "\n",
        "# MEMBRANE\n",
        "  if im_data[1,:,:].mean() < 7:\n",
        "    cntr_mem = np.zeros((para_size,2))\n",
        "  else:\n",
        "    contours_mem = cv2.findContours(im_data[1,:,:], cv2.RETR_EXTERNAL, cv2.CHAIN_APPROX_NONE)\n",
        "    contours_mem = contours_mem[0] if len(contours_mem) == 2 else contours_mem[1]\n",
        "    if len(contours_mem) == 2 and len(contours_mem[1]) > len(contours_mem[0]):\n",
        "      cntr_mem = contours_mem[1]\n",
        "    else:\n",
        "      cntr_mem = contours_mem[0]\n",
        "    cntr_mem = np.asarray(cntr_mem)\n",
        "    cntr_mem = np.reshape(cntr_mem,(cntr_mem.shape[0],2))\n",
        "    choice_mem = np.random.choice(range(cntr_mem.shape[0]), size=(para_size,1), replace=False)\n",
        "    ind_mem = np.zeros(cntr_mem.shape[0], dtype=bool)\n",
        "    ind_mem[choice_mem] = True\n",
        "    cntr_mem = cntr_mem[ind_mem]\n",
        "  \n",
        "  new = np.stack((cntr,cntr_mem),axis=0)\n",
        "  cells[counter,:,:,:] = new\n",
        "  counter += 1"
      ],
      "metadata": {
        "id": "PXhY0i-iC28p"
      },
      "execution_count": null,
      "outputs": []
    },
    {
      "cell_type": "code",
      "source": [
        "np.save('data_subset.npy',cells)\n",
        "cells = np.load('data_subset.npy')"
      ],
      "metadata": {
        "id": "ITzWZLhaUFZJ"
      },
      "execution_count": null,
      "outputs": []
    },
    {
      "cell_type": "code",
      "source": [
        "labels = meta['label']\n",
        "row_names = meta['label'].unique()[3:]"
      ],
      "metadata": {
        "id": "dB9TK_d9FlXB"
      },
      "execution_count": null,
      "outputs": []
    },
    {
      "cell_type": "code",
      "source": [
        "p = 0\n",
        "fig, ax = plt.subplots(nrows=6, ncols=5,\n",
        "                       sharex=True, sharey=True,\n",
        "                       figsize=(20, 20))\n",
        "\n",
        "for i, row in enumerate(ax):\n",
        "    for j, col in enumerate(row):\n",
        "        \n",
        "        col.plot(cells[p,0,:,0],-cells[p,0,:,1],linewidth=2)\n",
        "        col.plot(cells[p,1,:,0],-cells[p,1,:,1],linewidth=2)\n",
        "        col.axes.xaxis.set_ticks([])\n",
        "        col.axes.yaxis.set_ticks([])\n",
        "        col.spines['top'].set_visible(False)\n",
        "        col.spines['bottom'].set_visible(False)\n",
        "        col.spines['left'].set_visible(False)\n",
        "        col.spines['right'].set_visible(False)\n",
        "        if j == 0:\n",
        "            col.set_ylabel(row_names[i],fontsize=20)\n",
        "        p += 1\n",
        "plt.tight_layout()"
      ],
      "metadata": {
        "id": "PW-QVpqzT11J"
      },
      "execution_count": null,
      "outputs": []
    },
    {
      "cell_type": "markdown",
      "source": [
        "Shown above are sample images of cells, with the foreground of the image parametrized."
      ],
      "metadata": {
        "id": "3_gct96pH5Fp"
      }
    }
  ],
  "metadata": {
    "kernelspec": {
      "display_name": "Python 3",
      "language": "python",
      "name": "python3"
    },
    "language_info": {
      "codemirror_mode": {
        "name": "ipython",
        "version": 3
      },
      "file_extension": ".py",
      "mimetype": "text/x-python",
      "name": "python",
      "nbconvert_exporter": "python",
      "pygments_lexer": "ipython3",
      "version": "3.7.9"
    },
    "colab": {
      "provenance": []
    }
  },
  "nbformat": 4,
  "nbformat_minor": 0
}