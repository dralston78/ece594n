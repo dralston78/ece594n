{
 "cells": [
  {
   "attachments": {},
   "cell_type": "markdown",
   "metadata": {},
   "source": [
    "Title: Visualization of the Brain Structure in Schizophrenia using Dimension Reduction Analysis\n",
    "By: Shaun Chen"
   ]
  },
  {
   "cell_type": "code",
   "execution_count": null,
   "metadata": {},
   "outputs": [],
   "source": []
  }
 ],
 "metadata": {
  "kernelspec": {
   "display_name": "Python 3",
   "language": "python",
   "name": "python3"
  },
  "language_info": {
   "name": "python",
   "version": "3.8.6"
  },
  "orig_nbformat": 4,
  "vscode": {
   "interpreter": {
    "hash": "91eba9c9a7fecc4aa2f85b5b387348c544920ef89dd37e250ba28ecfa9fa0991"
   }
  }
 },
 "nbformat": 4,
 "nbformat_minor": 2
}
