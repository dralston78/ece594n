{
 "cells": [
  {
   "cell_type": "code",
   "execution_count": 65,
   "id": "85eb0d6e",
   "metadata": {
    "slideshow": {
     "slide_type": "skip"
    }
   },
   "outputs": [],
   "source": [
    "import tensorflow as tf\n",
    "import matplotlib.pyplot as plt\n",
    "from tensorflow.keras import datasets, layers, models\n",
    "import matplotlib.pyplot as plt\n",
    "import numpy as np\n",
    "import PIL\n",
    "from tensorflow import keras\n",
    "from tensorflow.keras import layers\n",
    "from tensorflow.keras.models import Sequential"
   ]
  },
  {
   "cell_type": "code",
   "execution_count": 66,
   "id": "41b28640",
   "metadata": {},
   "outputs": [
    {
     "name": "stdout",
     "output_type": "stream",
     "text": [
      "Found 4881 files belonging to 2 classes.\n",
      "Using 3905 files for training.\n"
     ]
    }
   ],
   "source": [
    "data_dir = '/Users/jakebentley/Desktop/Cells'\n",
    "\n",
    "train_ds = tf.keras.utils.image_dataset_from_directory(\n",
    "  data_dir,\n",
    "  validation_split=0.2,\n",
    "  subset=\"training\",\n",
    "  seed=1,\n",
    "  image_size=(180, 180),\n",
    "  batch_size= 5)"
   ]
  },
  {
   "cell_type": "code",
   "execution_count": 67,
   "id": "a7cca6c2",
   "metadata": {},
   "outputs": [
    {
     "name": "stdout",
     "output_type": "stream",
     "text": [
      "Found 4881 files belonging to 2 classes.\n",
      "Using 976 files for validation.\n"
     ]
    }
   ],
   "source": [
    "val_ds = tf.keras.utils.image_dataset_from_directory(\n",
    "  data_dir,\n",
    "  validation_split=0.2,\n",
    "  subset=\"validation\",\n",
    "  seed=1,\n",
    "  image_size=(180, 180),\n",
    "  batch_size=10)"
   ]
  },
  {
   "cell_type": "code",
   "execution_count": 68,
   "id": "e4622f77",
   "metadata": {},
   "outputs": [
    {
     "name": "stdout",
     "output_type": "stream",
     "text": [
      "['erythroblast', 'neutrophil']\n"
     ]
    }
   ],
   "source": [
    "class_names = train_ds.class_names\n",
    "print(class_names)"
   ]
  },
  {
   "cell_type": "code",
   "execution_count": 69,
   "id": "b42128a3",
   "metadata": {},
   "outputs": [
    {
     "name": "stdout",
     "output_type": "stream",
     "text": [
      "(5, 180, 180, 3)\n",
      "(5,)\n"
     ]
    }
   ],
   "source": [
    "for image_batch, labels_batch in train_ds:\n",
    "    print(image_batch.shape)\n",
    "    print(labels_batch.shape)\n",
    "    break"
   ]
  },
  {
   "cell_type": "code",
   "execution_count": 70,
   "id": "3ccbf42c",
   "metadata": {},
   "outputs": [],
   "source": [
    "# AUTOTUNE = tf.data.AUTOTUNE\n",
    "\n",
    "# train_ds = train_ds.cache().shuffle(1000).prefetch(buffer_size=AUTOTUNE)\n",
    "# val_ds = val_ds.cache().prefetch(buffer_size=AUTOTUNE)"
   ]
  },
  {
   "cell_type": "code",
   "execution_count": 71,
   "id": "8bd15841",
   "metadata": {},
   "outputs": [],
   "source": [
    "num_classes = len(class_names)\n",
    "\n",
    "model = Sequential([\n",
    "  layers.Rescaling(1./255, input_shape=(180, 180, 3)),\n",
    "  layers.Conv2D(16, 3, padding='same', activation='relu'),\n",
    "  layers.MaxPooling2D(),\n",
    "  layers.Conv2D(32, 3, padding='same', activation='relu'),\n",
    "  layers.MaxPooling2D(),\n",
    "  layers.Conv2D(64, 3, padding='same', activation='relu'),\n",
    "  layers.MaxPooling2D(),\n",
    "  layers.Flatten(),\n",
    "  layers.Dense(128, activation='relu'),\n",
    "  layers.Dense(num_classes)\n",
    "])"
   ]
  },
  {
   "cell_type": "code",
   "execution_count": 72,
   "id": "28907f3d",
   "metadata": {},
   "outputs": [],
   "source": [
    "model.compile(optimizer='adam',\n",
    "              loss=tf.keras.losses.SparseCategoricalCrossentropy(from_logits=True),\n",
    "              metrics=['accuracy'])"
   ]
  },
  {
   "cell_type": "code",
   "execution_count": 73,
   "id": "2967fda0",
   "metadata": {},
   "outputs": [
    {
     "name": "stdout",
     "output_type": "stream",
     "text": [
      "Model: \"sequential_6\"\n",
      "_________________________________________________________________\n",
      " Layer (type)                Output Shape              Param #   \n",
      "=================================================================\n",
      " rescaling_6 (Rescaling)     (None, 180, 180, 3)       0         \n",
      "                                                                 \n",
      " conv2d_18 (Conv2D)          (None, 180, 180, 16)      448       \n",
      "                                                                 \n",
      " max_pooling2d_18 (MaxPoolin  (None, 90, 90, 16)       0         \n",
      " g2D)                                                            \n",
      "                                                                 \n",
      " conv2d_19 (Conv2D)          (None, 90, 90, 32)        4640      \n",
      "                                                                 \n",
      " max_pooling2d_19 (MaxPoolin  (None, 45, 45, 32)       0         \n",
      " g2D)                                                            \n",
      "                                                                 \n",
      " conv2d_20 (Conv2D)          (None, 45, 45, 64)        18496     \n",
      "                                                                 \n",
      " max_pooling2d_20 (MaxPoolin  (None, 22, 22, 64)       0         \n",
      " g2D)                                                            \n",
      "                                                                 \n",
      " flatten_6 (Flatten)         (None, 30976)             0         \n",
      "                                                                 \n",
      " dense_12 (Dense)            (None, 128)               3965056   \n",
      "                                                                 \n",
      " dense_13 (Dense)            (None, 2)                 258       \n",
      "                                                                 \n",
      "=================================================================\n",
      "Total params: 3,988,898\n",
      "Trainable params: 3,988,898\n",
      "Non-trainable params: 0\n",
      "_________________________________________________________________\n"
     ]
    }
   ],
   "source": [
    "model.summary()"
   ]
  },
  {
   "cell_type": "code",
   "execution_count": 74,
   "id": "afde5fbe",
   "metadata": {
    "slideshow": {
     "slide_type": "-"
    }
   },
   "outputs": [
    {
     "name": "stdout",
     "output_type": "stream",
     "text": [
      "Epoch 1/10\n",
      "10/10 [==============================] - 5s 463ms/step - loss: 1.2669 - accuracy: 0.5400 - val_loss: 0.6938 - val_accuracy: 0.3084\n",
      "Epoch 2/10\n",
      "10/10 [==============================] - 4s 431ms/step - loss: 0.5117 - accuracy: 0.7600 - val_loss: 0.7617 - val_accuracy: 0.6967\n",
      "Epoch 3/10\n",
      "10/10 [==============================] - 4s 433ms/step - loss: 0.7818 - accuracy: 0.6800 - val_loss: 0.6150 - val_accuracy: 0.6967\n",
      "Epoch 4/10\n",
      "10/10 [==============================] - 4s 437ms/step - loss: 0.6595 - accuracy: 0.6600 - val_loss: 0.6693 - val_accuracy: 0.6967\n",
      "Epoch 5/10\n",
      "10/10 [==============================] - 4s 432ms/step - loss: 0.6678 - accuracy: 0.6800 - val_loss: 0.6430 - val_accuracy: 0.6967\n",
      "Epoch 6/10\n",
      "10/10 [==============================] - 4s 435ms/step - loss: 0.5862 - accuracy: 0.7600 - val_loss: 0.6352 - val_accuracy: 0.6967\n",
      "Epoch 7/10\n",
      "10/10 [==============================] - 4s 438ms/step - loss: 0.5681 - accuracy: 0.7600 - val_loss: 0.6112 - val_accuracy: 0.6967\n",
      "Epoch 8/10\n",
      "10/10 [==============================] - 4s 429ms/step - loss: 0.7402 - accuracy: 0.5600 - val_loss: 0.6450 - val_accuracy: 0.6967\n",
      "Epoch 9/10\n",
      "10/10 [==============================] - 4s 430ms/step - loss: 0.6353 - accuracy: 0.7000 - val_loss: 0.5897 - val_accuracy: 0.6967\n",
      "Epoch 10/10\n",
      "10/10 [==============================] - 4s 432ms/step - loss: 0.6627 - accuracy: 0.6200 - val_loss: 0.5996 - val_accuracy: 0.6967\n"
     ]
    }
   ],
   "source": [
    "epochs = 10\n",
    "\n",
    "history = model.fit(\n",
    "    train_ds,\n",
    "    validation_data=val_ds,\n",
    "    epochs=epochs,\n",
    "    steps_per_epoch = 10\n",
    ")"
   ]
  },
  {
   "cell_type": "code",
   "execution_count": 75,
   "id": "587f4327",
   "metadata": {},
   "outputs": [
    {
     "data": {
      "text/plain": [
       "Text(0, 0.5, 'Accuracy')"
      ]
     },
     "execution_count": 75,
     "metadata": {},
     "output_type": "execute_result"
    },
    {
     "data": {
      "image/png": "[encoded data removed]",
      "text/plain": [
       "<Figure size 800x800 with 1 Axes>"
      ]
     },
     "metadata": {},
     "output_type": "display_data"
    }
   ],
   "source": [
    "acc = history.history['accuracy']\n",
    "val_acc = history.history['val_accuracy']\n",
    "\n",
    "loss = history.history['loss']\n",
    "val_loss = history.history['val_loss']\n",
    "\n",
    "epochs_range = range(epochs)\n",
    "my_list = [0,1,2,3,4,5,6,7,8,9,10,11,12,13,14,15,16,17,18,19]\n",
    "\n",
    "my_list = [1,2,3,4,5,6,7,8,9,10]\n",
    "list_range = [i * (10 * 10) for i in my_list]\n",
    "\n",
    "\n",
    "plt.figure(figsize=(8, 8))\n",
    "plt.subplot(1, 1, 1)\n",
    "plt.plot(list_range, acc, label='Training Accuracy')\n",
    "plt.plot(list_range, val_acc, label='Validation Accuracy')\n",
    "plt.legend(loc='lower right')\n",
    "plt.title('Training and Validation Accuracy')\n",
    "plt.xlabel(\"Number of Images Used in Training\")\n",
    "plt.ylabel(\"Accuracy\")"
   ]
  },
  {
   "cell_type": "code",
   "execution_count": null,
   "id": "210a16b3",
   "metadata": {},
   "outputs": [],
   "source": [
    "Some of the disadvantages of CNNs: include the fact that a lot of training data is needed for the CNN to be effective \n",
    "    and that they fail to encode the position and orientation of objects.\n",
    "\n",
    "They fail to encode the position and orientation of objects. They have a hard time classifying images \n",
    "with different positions.\n",
    "\n",
    "A lot of training data is needed for the CNN to be effective.\n",
    "\n",
    "CNNs tend to be much slower because of operations like maxpool.\n",
    "\n",
    "In case the convolutional neural network is made up of multiple layers, the training process could take a\n",
    "particularly long time if the computer does not have a good GPU.\n",
    "\n",
    "Convolutional neural networks will recognize the image as clusters of pixels which are arranged in distinct\n",
    "patterns. They don’t understand them as components present in the image.\n",
    "\n",
    "\n",
    "CNN would have a hard time being like oh this style of cell nuclius follows this structure"
   ]
  }
 ],
 "metadata": {
  "kernelspec": {
   "display_name": "Python 3 (ipykernel)",
   "language": "python",
   "name": "python3"
  },
  "language_info": {
   "codemirror_mode": {
    "name": "ipython",
    "version": 3
   },
   "file_extension": ".py",
   "mimetype": "text/x-python",
   "name": "python",
   "nbconvert_exporter": "python",
   "pygments_lexer": "ipython3",
   "version": "3.9.13"
  }
 },
 "nbformat": 4,
 "nbformat_minor": 5
}
